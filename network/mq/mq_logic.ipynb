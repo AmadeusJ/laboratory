{
 "cells": [
  {
   "cell_type": "markdown",
   "metadata": {},
   "source": [
    "## MQ loginc analyze"
   ]
  },
  {
   "cell_type": "code",
   "execution_count": 3,
   "metadata": {},
   "outputs": [],
   "source": [
    "import os\n",
    "import json\n",
    "import uuid\n",
    "import socket as sock\n",
    "\n",
    "import kombu\n",
    "import gevent\n",
    "import logging\n",
    "import datetime\n",
    "from greenlet import GreenletExit\n",
    "\n",
    "from gevent._semaphore import BoundedSemaphore\n",
    "from geventwebsocket import WebSocketError\n",
    "from kombu.pools import connections\n",
    "from amqp.exceptions import ConnectionForced"
   ]
  },
  {
   "cell_type": "code",
   "execution_count": 6,
   "metadata": {},
   "outputs": [],
   "source": [
    "# Rabbitmq settings\n",
    "RABBITMQ_HOSTS = ('localhost',)\n",
    "RABBITMQ_USER = 'guest'\n",
    "RABBITMQ_PASSWORD = 'guest'\n",
    "RABBITMQ_QUEUE_EXPIRES = 300.0 # seconds\n",
    "RABBITMQ_MESSAGE_EXPIRES = RABBITMQ_QUEUE_EXPIRES\n",
    "\n",
    "broker_urls = [f'amqp://{RABBITMQ_USER}:{RABBITMQ_PASSWORD}@{host}' for host in RABBITMQ_HOSTS]\n",
    "\n",
    "semaphore = BoundedSemaphore()"
   ]
  },
  {
   "cell_type": "code",
   "execution_count": null,
   "metadata": {},
   "outputs": [],
   "source": []
  }
 ],
 "metadata": {
  "kernelspec": {
   "display_name": "dev",
   "language": "python",
   "name": "dev"
  },
  "language_info": {
   "codemirror_mode": {
    "name": "ipython",
    "version": 3
   },
   "file_extension": ".py",
   "mimetype": "text/x-python",
   "name": "python",
   "nbconvert_exporter": "python",
   "pygments_lexer": "ipython3",
   "version": "3.6.8"
  }
 },
 "nbformat": 4,
 "nbformat_minor": 4
}
