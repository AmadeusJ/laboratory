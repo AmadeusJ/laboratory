{
 "cells": [
  {
   "cell_type": "code",
   "execution_count": 1,
   "metadata": {},
   "outputs": [],
   "source": [
    "import gevent"
   ]
  },
  {
   "cell_type": "code",
   "execution_count": 8,
   "metadata": {},
   "outputs": [
    {
     "name": "stdout",
     "output_type": "stream",
     "text": [
      "[1] Running in foo\n",
      "[3] Emplict context to bar\n",
      "[2] Emplict context switch to foo again\n",
      "[4] implicit switch switch back to bar\n"
     ]
    },
    {
     "data": {
      "text/plain": [
       "[<Greenlet at 0x7fe2f0393cb0: _run>, <Greenlet at 0x7fe2f0393dd0: _run>]"
      ]
     },
     "execution_count": 8,
     "metadata": {},
     "output_type": "execute_result"
    }
   ],
   "source": [
    "def foo():\n",
    "    print('[1] Running in foo')\n",
    "    gevent.sleep(0)\n",
    "    print('[2] Emplict context switch to foo again')\n",
    "\n",
    "def bar():\n",
    "    print('[3] Emplict context to bar')\n",
    "    gevent.sleep(0)\n",
    "    print('[4] implicit switch switch back to bar')\n",
    "\n",
    "gevent.joinall([\n",
    "    gevent.spawn(foo),\n",
    "    gevent.spawn(bar),\n",
    "])"
   ]
  },
  {
   "cell_type": "markdown",
   "metadata": {},
   "source": [
    "## Synchronous & Asynchronous Execution"
   ]
  },
  {
   "cell_type": "code",
   "execution_count": 9,
   "metadata": {},
   "outputs": [],
   "source": [
    "import time\n",
    "from gevent import select"
   ]
  },
  {
   "cell_type": "code",
   "execution_count": 11,
   "metadata": {},
   "outputs": [
    {
     "name": "stdout",
     "output_type": "stream",
     "text": [
      "[1] Started Polling: at 0.0 seconds\n",
      "[3] Started Polling: at 0.0 seconds\n",
      "[5] Hey lets do some stuff while the greenlets poll, at 0.0 seconds\n",
      "[2] Ended Polling: at 2.0 seconds\n",
      "[4] Ended Polling: at 2.0 seconds\n"
     ]
    },
    {
     "data": {
      "text/plain": [
       "[<Greenlet at 0x7fe2e02af5f0: _run>,\n",
       " <Greenlet at 0x7fe2e02af290: _run>,\n",
       " <Greenlet at 0x7fe2e02af4d0: _run>]"
      ]
     },
     "execution_count": 11,
     "metadata": {},
     "output_type": "execute_result"
    }
   ],
   "source": [
    "# gevent의 진짜 힘은 상호작용 하며 스케쥴링 될 수 있는 네트워크와 IO bound 함수들을 작성할 때 발휘된다.\n",
    "# gevent는 네트워크 라이브러리들이 암시적으로 greenlet 컨텍스트들이 가능한 시점에 암시적으로 yield 하도록 보장합니다 (==> 뭔 소리인지...)\n",
    "\n",
    "start = time.time()\n",
    "tic = lambda: 'at %1.1f seconds' % (time.time() - start)\n",
    "\n",
    "def gr1():\n",
    "    # Busy waits for a second, but we don't want to stick around...\n",
    "    print('[1] Started Polling: %s' % tic())\n",
    "    select.select([], [], [], 2)\n",
    "    print('[2] Ended Polling: %s' % tic())\n",
    "\n",
    "def gr2():\n",
    "    # Busy waits for a second, but we don't want to stick around...\n",
    "    print('[3] Started Polling: %s' % tic())\n",
    "    select.select([], [], [], 2)\n",
    "    print('[4] Ended Polling: %s' % tic())\n",
    "\n",
    "def gr3():\n",
    "    print(\"[5] Hey lets do some stuff while the greenlets poll, %s\" % tic())\n",
    "    gevent.sleep(1)\n",
    "\n",
    "gevent.joinall([\n",
    "    gevent.spawn(gr1),\n",
    "    gevent.spawn(gr2),\n",
    "    gevent.spawn(gr3),\n",
    "])"
   ]
  },
  {
   "cell_type": "markdown",
   "metadata": {},
   "source": [
    "> `.spawn(?)`에 들어가면 coroutine에 들어간다고 보면 될 거 같다.."
   ]
  },
  {
   "cell_type": "code",
   "execution_count": 16,
   "metadata": {},
   "outputs": [
    {
     "name": "stdout",
     "output_type": "stream",
     "text": [
      "Synchronous:\n",
      "Task 1 done\n",
      "Task 2 done\n",
      "Task 3 done\n",
      "Task 4 done\n",
      "Task 5 done\n",
      "Task 6 done\n",
      "Task 7 done\n",
      "Task 8 done\n",
      "Task 9 done\n",
      "Asynchronous:\n",
      "Task 1 done\n",
      "Task 2 done\n",
      "Task 0 done\n",
      "Task 7 done\n",
      "Task 3 done\n",
      "Task 4 done\n",
      "Task 5 done\n",
      "Task 6 done\n",
      "Task 8 done\n",
      "Task 9 done\n"
     ]
    }
   ],
   "source": [
    "import random\n",
    "\n",
    "def task(pid):\n",
    "    \"\"\"\n",
    "    Some non-deterministic task\n",
    "    \"\"\"\n",
    "    gevent.sleep(random.randint(0, 2) * 0.001)\n",
    "    print(\"Task %s done\" % pid)\n",
    "\n",
    "def synchronous():\n",
    "    for i in range(1, 10):\n",
    "        task(i)\n",
    "\n",
    "def asynchronous():\n",
    "    threads = [gevent.spawn(task, i) for i in range(10)]\n",
    "    gevent.joinall(threads)\n",
    "\n",
    "print('Synchronous:')\n",
    "synchronous()\n",
    "\n",
    "print('Asynchronous:')\n",
    "asynchronous()"
   ]
  },
  {
   "cell_type": "code",
   "execution_count": null,
   "metadata": {},
   "outputs": [],
   "source": []
  }
 ],
 "metadata": {
  "kernelspec": {
   "display_name": "Python 3",
   "language": "python",
   "name": "python3"
  },
  "language_info": {
   "codemirror_mode": {
    "name": "ipython",
    "version": 3
   },
   "file_extension": ".py",
   "mimetype": "text/x-python",
   "name": "python",
   "nbconvert_exporter": "python",
   "pygments_lexer": "ipython3",
   "version": "3.7.7"
  }
 },
 "nbformat": 4,
 "nbformat_minor": 4
}
