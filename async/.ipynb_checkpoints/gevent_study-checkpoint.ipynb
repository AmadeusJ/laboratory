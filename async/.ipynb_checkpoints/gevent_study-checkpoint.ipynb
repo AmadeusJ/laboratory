{
 "cells": [
  {
   "cell_type": "code",
   "execution_count": 28,
   "metadata": {},
   "outputs": [],
   "source": [
    "import gevent"
   ]
  },
  {
   "cell_type": "code",
   "execution_count": 29,
   "metadata": {},
   "outputs": [
    {
     "name": "stdout",
     "output_type": "stream",
     "text": [
      "[1] Running in foo\n",
      "[3] Emplict context to bar\n",
      "[2] Emplict context switch to foo again\n",
      "[4] implicit switch switch back to bar\n"
     ]
    },
    {
     "data": {
      "text/plain": [
       "[<Greenlet at 0x7fb6c8ab7ef0: _run>, <Greenlet at 0x7fb6b86e9710: _run>]"
      ]
     },
     "execution_count": 29,
     "metadata": {},
     "output_type": "execute_result"
    }
   ],
   "source": [
    "def foo():\n",
    "    print('[1] Running in foo')\n",
    "    gevent.sleep(0)\n",
    "    print('[2] Emplict context switch to foo again')\n",
    "\n",
    "def bar():\n",
    "    print('[3] Emplict context to bar')\n",
    "    gevent.sleep(0)\n",
    "    print('[4] implicit switch switch back to bar')\n",
    "\n",
    "gevent.joinall([\n",
    "    gevent.spawn(foo),\n",
    "    gevent.spawn(bar),\n",
    "])"
   ]
  },
  {
   "cell_type": "markdown",
   "metadata": {},
   "source": [
    "## Synchronous & Asynchronous Execution"
   ]
  },
  {
   "cell_type": "code",
   "execution_count": 30,
   "metadata": {},
   "outputs": [],
   "source": [
    "import time\n",
    "from gevent import select"
   ]
  },
  {
   "cell_type": "code",
   "execution_count": 31,
   "metadata": {},
   "outputs": [
    {
     "name": "stdout",
     "output_type": "stream",
     "text": [
      "[1] Started Polling: at 0.0 seconds\n",
      "[3] Started Polling: at 0.0 seconds\n",
      "[5] Hey lets do some stuff while the greenlets poll, at 0.0 seconds\n",
      "[2] Ended Polling: at 2.0 seconds\n",
      "[4] Ended Polling: at 2.0 seconds\n"
     ]
    },
    {
     "data": {
      "text/plain": [
       "[<Greenlet at 0x7fb6b86e9950: _run>,\n",
       " <Greenlet at 0x7fb6b86e9b90: _run>,\n",
       " <Greenlet at 0x7fb6b86e9a70: _run>]"
      ]
     },
     "execution_count": 31,
     "metadata": {},
     "output_type": "execute_result"
    }
   ],
   "source": [
    "# gevent의 진짜 힘은 상호작용 하며 스케쥴링 될 수 있는 네트워크와 IO bound 함수들을 작성할 때 발휘된다.\n",
    "# gevent는 네트워크 라이브러리들이 암시적으로 greenlet 컨텍스트들이 가능한 시점에 암시적으로 yield 하도록 보장합니다 (==> 뭔 소리인지...)\n",
    "\n",
    "start = time.time()\n",
    "tic = lambda: 'at %1.1f seconds' % (time.time() - start)\n",
    "\n",
    "def gr1():\n",
    "    # Busy waits for a second, but we don't want to stick around...\n",
    "    print('[1] Started Polling: %s' % tic())\n",
    "    select.select([], [], [], 2)\n",
    "    print('[2] Ended Polling: %s' % tic())\n",
    "\n",
    "def gr2():\n",
    "    # Busy waits for a second, but we don't want to stick around...\n",
    "    print('[3] Started Polling: %s' % tic())\n",
    "    select.select([], [], [], 2)\n",
    "    print('[4] Ended Polling: %s' % tic())\n",
    "\n",
    "def gr3():\n",
    "    print(\"[5] Hey lets do some stuff while the greenlets poll, %s\" % tic())\n",
    "    gevent.sleep(1)\n",
    "\n",
    "gevent.joinall([\n",
    "    gevent.spawn(gr1),\n",
    "    gevent.spawn(gr2),\n",
    "    gevent.spawn(gr3),\n",
    "])"
   ]
  },
  {
   "cell_type": "markdown",
   "metadata": {},
   "source": [
    "> `.spawn(?)`에 들어가면 coroutine에 들어간다고 보면 될 거 같다.."
   ]
  },
  {
   "cell_type": "code",
   "execution_count": 32,
   "metadata": {},
   "outputs": [
    {
     "name": "stdout",
     "output_type": "stream",
     "text": [
      "Synchronous:\n",
      "Task 1 done\n",
      "Task 2 done\n",
      "Task 3 done\n",
      "Task 4 done\n",
      "Task 5 done\n",
      "Task 6 done\n",
      "Task 7 done\n",
      "Task 8 done\n",
      "Task 9 done\n",
      "Asynchronous:\n",
      "Task 4 done\n",
      "Task 6 done\n",
      "Task 7 done\n",
      "Task 8 done\n",
      "Task 9 done\n",
      "Task 0 done\n",
      "Task 1 done\n",
      "Task 2 done\n",
      "Task 3 done\n",
      "Task 5 done\n"
     ]
    }
   ],
   "source": [
    "import random\n",
    "\n",
    "def task(pid):\n",
    "    \"\"\"\n",
    "    Some non-deterministic task\n",
    "    \"\"\"\n",
    "    gevent.sleep(random.randint(0, 2) * 0.001)\n",
    "    print(\"Task %s done\" % pid)\n",
    "\n",
    "def synchronous():\n",
    "    for i in range(1, 10):\n",
    "        task(i)\n",
    "\n",
    "def asynchronous():\n",
    "    threads = [gevent.spawn(task, i) for i in range(10)]\n",
    "    gevent.joinall(threads)\n",
    "\n",
    "print('Synchronous:')\n",
    "synchronous()\n",
    "\n",
    "print('Asynchronous:')\n",
    "asynchronous()"
   ]
  },
  {
   "cell_type": "markdown",
   "metadata": {},
   "source": [
    "> 동기(synchronous)처리 시 모든 task들이 순차적으로 실행되고, 다른 task들이 각각 동작하는 동한 blocking 방식으로 동작한다. <br/>\n",
    "비동기(asynchronous)처리 시 실행 순서가 보장되지 않고 실행시간이 동기처리 시 보다 훨씬 줄어든다. task들이 서로  실행을 block 하지 않기에"
   ]
  },
  {
   "cell_type": "code",
   "execution_count": 33,
   "metadata": {},
   "outputs": [
    {
     "name": "stdout",
     "output_type": "stream",
     "text": [
      "Synchronous:\n",
      "Process 1: 2020-12-11T02:09:39.563529-03:00\n",
      "Process 2: 2020-12-11T02:09:40.110631-03:00\n",
      "Process 3: 2020-12-11T02:09:40.661135-03:00\n",
      "Process 4: 2020-12-11T02:09:41.218996-03:00\n",
      "Process 5: 2020-12-11T02:09:41.782401-03:00\n",
      "Process 6: 2020-12-11T02:09:42.333535-03:00\n",
      "Process 7: 2020-12-11T02:09:42.885888-03:00\n",
      "Process 8: 2020-12-11T02:09:43.441464-03:00\n",
      "Process 9: 2020-12-11T02:09:43.997512-03:00\n",
      "Asynchronous:\n",
      "Process 9: 2020-12-11T02:09:44.551578-03:00\n",
      "Process 4: 2020-12-11T02:09:44.553950-03:00\n",
      "Process 1: 2020-12-11T02:09:44.554538-03:00\n",
      "Process 2: 2020-12-11T02:09:44.555124-03:00\n",
      "Process 8: 2020-12-11T02:09:44.561080-03:00\n",
      "Process 5: 2020-12-11T02:09:44.560272-03:00\n",
      "Process 6: 2020-12-11T02:09:44.560763-03:00\n",
      "Process 7: 2020-12-11T02:09:44.558524-03:00\n",
      "Process 3: 2020-12-11T02:09:44.563216-03:00\n"
     ]
    }
   ],
   "source": [
    "import gevent.monkey\n",
    "gevent.monkey.patch_socket()\n",
    "\n",
    "import urllib.request\n",
    "import simplejson as json\n",
    "\n",
    "def fetch(pid):\n",
    "    response = urllib.request.urlopen('http://worldtimeapi.org/api/timezone/America/Argentina/Salta')\n",
    "    result = response.read()\n",
    "    json_result = json.loads(result)\n",
    "    datetime = json_result['datetime']\n",
    "    \n",
    "    print('Process %s: %s' % (pid, datetime))\n",
    "    return json_result['datetime']\n",
    "\n",
    "def synchronous():\n",
    "    for i in range(1, 10):\n",
    "        fetch(i)\n",
    "\n",
    "def asynchronous():\n",
    "    threads = []\n",
    "    for i in range(1, 10):\n",
    "        threads.append(gevent.spawn(fetch, i))\n",
    "    gevent.joinall(threads)\n",
    "\n",
    "print('Synchronous:')\n",
    "synchronous()\n",
    "\n",
    "print('Asynchronous:')\n",
    "asynchronous()"
   ]
  },
  {
   "cell_type": "markdown",
   "metadata": {},
   "source": [
    "> 위의 예시로, sync와 async의 차이를 확연히 볼 수 있다."
   ]
  },
  {
   "cell_type": "markdown",
   "metadata": {},
   "source": [
    "## Determinism"
   ]
  },
  {
   "cell_type": "code",
   "execution_count": 34,
   "metadata": {},
   "outputs": [
    {
     "name": "stdout",
     "output_type": "stream",
     "text": [
      "Non Deterministic Process Pool:  False\n",
      "Deterministic Gevent Pool:  True\n"
     ]
    }
   ],
   "source": [
    "import time\n",
    "\n",
    "def echo(i):\n",
    "    time.sleep(0.001)\n",
    "    return i\n",
    "\n",
    "# Non Deterministic Process Pool\n",
    "from multiprocessing.pool import Pool\n",
    "\n",
    "p = Pool(10)\n",
    "run1 = [a for a in p.imap_unordered(echo, range(10))]\n",
    "run2 = [a for a in p.imap_unordered(echo, range(10))]\n",
    "run3 = [a for a in p.imap_unordered(echo, range(10))]\n",
    "run4 = [a for a in p.imap_unordered(echo, range(10))]\n",
    "\n",
    "print(\"Non Deterministic Process Pool: \", run1 == run2 == run3 == run4)\n",
    "\n",
    "# Deterministic Gevent Pool\n",
    "from gevent.pool import Pool\n",
    "\n",
    "p = Pool(10)\n",
    "run1 = [a for a in p.imap_unordered(echo, range(10))]\n",
    "run2 = [a for a in p.imap_unordered(echo, range(10))]\n",
    "run3 = [a for a in p.imap_unordered(echo, range(10))]\n",
    "run4 = [a for a in p.imap_unordered(echo, range(10))]\n",
    "\n",
    "print(\"Deterministic Gevent Pool: \", run1 == run2 == run3 == run4)\n"
   ]
  },
  {
   "cell_type": "markdown",
   "metadata": {},
   "source": [
    "> gevent가 일반적으로 dterministic 하다고 해도, 소켓과 파일과 같은 외부 서비스와 연동할 때 non-deterministic한 입력들이 들어올 수 있다.\n",
    "동시성을 다룰 때 만날 수 있는 문제로 `race condition`이 있는데, 이를 피하기 위해서는 공유 자원을 사용하지 않는 것이다."
   ]
  },
  {
   "cell_type": "markdown",
   "metadata": {},
   "source": [
    "## Spawning Greenlets"
   ]
  },
  {
   "cell_type": "code",
   "execution_count": 35,
   "metadata": {},
   "outputs": [
    {
     "name": "stdout",
     "output_type": "stream",
     "text": [
      "Hello\n",
      "I live!\n"
     ]
    },
    {
     "data": {
      "text/plain": [
       "[<Greenlet at 0x7fb6b86e9cb0: _run>,\n",
       " <Greenlet at 0x7fb6b86e9290: _run>,\n",
       " <Greenlet at 0x7fb6b86e9170: _run>]"
      ]
     },
     "execution_count": 35,
     "metadata": {},
     "output_type": "execute_result"
    }
   ],
   "source": [
    "import gevent\n",
    "from gevent import Greenlet\n",
    "\n",
    "def foo(message, n):\n",
    "    \"\"\"\n",
    "    Each thread will be passed the message, and n arguments\n",
    "    in its initialization.\n",
    "    \"\"\"\n",
    "    gevent.sleep(n)\n",
    "    print(message)\n",
    "\n",
    "# Initialize a new Greenlet instance running the named function 'foo'\n",
    "thread1 = Greenlet.spawn(foo, \"Hello\", 1)\n",
    "\n",
    "# Wrapper for creating and running a new Greenlet from the named function 'foo', with the passed arguments\n",
    "thread2 = gevent.spawn(foo, \"I live!\", 2)\n",
    "\n",
    "# Lambda expressions\n",
    "thread3 = gevent.spawn(lambda x: (x+1), 2)\n",
    "\n",
    "threads = [thread1, thread2, thread3]\n",
    "\n",
    "gevent.joinall(threads)\n"
   ]
  },
  {
   "cell_type": "markdown",
   "metadata": {},
   "source": [
    "> 위에서 계쏙 해왔던 것들인데_ 왜 지금와서야 이걸 알려주는지..."
   ]
  },
  {
   "cell_type": "code",
   "execution_count": 36,
   "metadata": {},
   "outputs": [
    {
     "name": "stdout",
     "output_type": "stream",
     "text": [
      "Hi there!\n"
     ]
    }
   ],
   "source": [
    "class MyGreenlet(Greenlet):\n",
    "    def __init__(self, message, n):\n",
    "        Greenlet.__init__(self)\n",
    "        self.message = message\n",
    "        self.n = n\n",
    "    \n",
    "    def _run(self):\n",
    "        print(self.message)\n",
    "        gevent.sleep(self.n)\n",
    "\n",
    "g = MyGreenlet(\"Hi there!\", 3)\n",
    "g.start()\n",
    "g.join()"
   ]
  },
  {
   "cell_type": "markdown",
   "metadata": {},
   "source": [
    "> Greenlet 클래스를 오버라이드 해서 쓸 수 있다는 것을 다시 보여주고 있음"
   ]
  },
  {
   "cell_type": "markdown",
   "metadata": {},
   "source": [
    " ## Program shutdown"
   ]
  },
  {
   "cell_type": "code",
   "execution_count": 37,
   "metadata": {},
   "outputs": [
    {
     "name": "stdout",
     "output_type": "stream",
     "text": [
      "Could not complete\n"
     ]
    }
   ],
   "source": [
    "import gevent\n",
    "from gevent import Timeout\n",
    "\n",
    "seconds = 3\n",
    "\n",
    "timeout = Timeout(seconds)\n",
    "timeout.start()\n",
    "\n",
    "def wait():\n",
    "    gevent.sleep(3)\n",
    "\n",
    "try:\n",
    "    gevent.spawn(wait).join()\n",
    "except Timeout:\n",
    "    print('Could not complete')\n"
   ]
  },
  {
   "cell_type": "markdown",
   "metadata": {},
   "source": [
    "## Monkeypatching"
   ]
  },
  {
   "cell_type": "code",
   "execution_count": 38,
   "metadata": {},
   "outputs": [
    {
     "name": "stdout",
     "output_type": "stream",
     "text": [
      "<class 'gevent._socket3.socket'>\n",
      "[a] After monkey patch\n",
      "[1]  <class 'gevent._socket3.socket'>\n",
      "[2]  <function select at 0x7fb6c89a35f0>\n",
      "[b] After monkey patch\n",
      "[3]  <function select at 0x7fb6c89a35f0>\n"
     ]
    }
   ],
   "source": [
    "import socket\n",
    "print(socket.socket)\n",
    "\n",
    "print(\"[a] After monkey patch\")\n",
    "from gevent import monkey\n",
    "monkey.patch_socket()\n",
    "print(\"[1] \", socket.socket)\n",
    "\n",
    "import select\n",
    "print(\"[2] \", select.select)\n",
    "monkey.patch_select()\n",
    "print(\"[b] After monkey patch\")\n",
    "print(\"[3] \", select.select)"
   ]
  },
  {
   "cell_type": "markdown",
   "metadata": {},
   "source": [
    "> Python's runtime allows for most objects to be modified at runtime including modules, classes, and even functions. This is generally an astoudingly bad idea since it creates an \"implicit side-effect\" that is most often extremely difficult to debug if problems occur, nevertheless in extreme situations where a library needs to alter the fundamental behavior of Python itself monkey patches can be used. In this case gevent is capable of patching most of the blocking system calls in the standard library including those in socket, ssl, threading and select modules to instead behave cooperatively.\n",
    "\n",
    "For example, the Redis python bindings normally uses regular tcp sockets to communicate with the redis-server instance. Simply by invoking gevent.monkey.patch_all() we can make the redis bindings schedule requests cooperatively and work with the rest of our gevent stack.\n",
    "\n",
    "This lets us integrate libraries that would not normally work with gevent without ever writing a single line of code. While monkey-patching is still evil, in this case it is a \"useful evil\".\n"
   ]
  },
  {
   "cell_type": "markdown",
   "metadata": {},
   "source": [
    "> 위에거... 뭔말인지 이해가 가지는 않음..."
   ]
  },
  {
   "cell_type": "markdown",
   "metadata": {},
   "source": [
    "## Events"
   ]
  },
  {
   "cell_type": "code",
   "execution_count": 39,
   "metadata": {},
   "outputs": [
    {
     "name": "stdout",
     "output_type": "stream",
     "text": [
      "[1] A: Hey wait for me, I have to do something\n",
      "[3] I'll wait for you\n",
      "[3] I'll wait for you\n",
      "[3] I'll wait for you\n",
      "[3] I'll wait for you\n",
      "[2] Ok, I'm done\n",
      "[4] It's about time\n",
      "[4] It's about time\n",
      "[4] It's about time\n",
      "[4] It's about time\n"
     ]
    }
   ],
   "source": [
    "import gevent\n",
    "from gevent.event import Event\n",
    "\n",
    "'''\n",
    "Illustrates the use of events\n",
    "'''\n",
    "\n",
    "evt = Event()\n",
    "\n",
    "def setter():\n",
    "    '''After 3 seconds, wake all threads waiting on the value of evt'''\n",
    "    print('[1] A: Hey wait for me, I have to do something')\n",
    "    gevent.sleep(3)\n",
    "    print(\"[2] Ok, I'm done\")\n",
    "    evt.set()\n",
    "\n",
    "def waiter():\n",
    "    '''After 3 seconds the get all will unblock'''\n",
    "    print(\"[3] I'll wait for you\")\n",
    "    evt.wait()\n",
    "    print(\"[4] It's about time\")\n",
    "\n",
    "def main():\n",
    "    gevent.joinall([\n",
    "        gevent.spawn(setter),\n",
    "        gevent.spawn(waiter),\n",
    "        gevent.spawn(waiter),\n",
    "        gevent.spawn(waiter),\n",
    "        gevent.spawn(waiter),\n",
    "    ])\n",
    "\n",
    "if __name__ == '__main__': main()"
   ]
  },
  {
   "cell_type": "markdown",
   "metadata": {},
   "source": [
    "## Queues"
   ]
  },
  {
   "cell_type": "code",
   "execution_count": 44,
   "metadata": {},
   "outputs": [
    {
     "name": "stdout",
     "output_type": "stream",
     "text": [
      "[1] Worker steve got task 1\n",
      "[1] Worker john got task 2\n",
      "[1] Worker nancy got task 3\n",
      "[1] Worker steve got task 4\n",
      "[1] Worker john got task 5\n",
      "[1] Worker nancy got task 6\n",
      "[1] Worker steve got task 7\n",
      "[1] Worker john got task 8\n",
      "[1] Worker nancy got task 9\n",
      "[1] Worker steve got task 10\n",
      "[1] Worker john got task 11\n",
      "[1] Worker nancy got task 12\n",
      "[1] Worker steve got task 13\n",
      "[1] Worker john got task 14\n",
      "[1] Worker nancy got task 15\n",
      "[1] Worker steve got task 16\n",
      "[1] Worker john got task 17\n",
      "[1] Worker nancy got task 18\n",
      "[1] Worker steve got task 19\n",
      "[1] Worker john got task 20\n",
      "[1] Worker nancy got task 21\n",
      "[1] Worker steve got task 22\n",
      "[1] Worker john got task 23\n",
      "[1] Worker nancy got task 24\n",
      "[2] Quitting time!\n",
      "[2] Quitting time!\n",
      "[2] Quitting time!\n"
     ]
    },
    {
     "data": {
      "text/plain": [
       "[<Greenlet at 0x7fb6b86f33b0: _run>,\n",
       " <Greenlet at 0x7fb6b86f34d0: _run>,\n",
       " <Greenlet at 0x7fb6b86f3710: _run>]"
      ]
     },
     "execution_count": 44,
     "metadata": {},
     "output_type": "execute_result"
    }
   ],
   "source": [
    "import gevent\n",
    "from gevent.queue import Queue\n",
    "\n",
    "tasks = Queue()\n",
    "\n",
    "def worker(n):\n",
    "    while not tasks.empty():\n",
    "        task = tasks.get()\n",
    "        print(\"[1] Worker %s got task %s\" % (n, task))\n",
    "        gevent.sleep(0)\n",
    "    \n",
    "    print('[2] Quitting time!')\n",
    "\n",
    "def boss():\n",
    "    for i in range(1, 25):\n",
    "        tasks.put_nowait(i)\n",
    "\n",
    "gevent.spawn(boss).join()\n",
    "\n",
    "gevent.joinall([\n",
    "    gevent.spawn(worker, 'steve'),\n",
    "    gevent.spawn(worker, 'john'),\n",
    "    gevent.spawn(worker, 'nancy'),\n",
    "])"
   ]
  },
  {
   "cell_type": "markdown",
   "metadata": {},
   "source": [
    "> "
   ]
  }
 ],
 "metadata": {
  "kernelspec": {
   "display_name": "Python 3",
   "language": "python",
   "name": "python3"
  },
  "language_info": {
   "codemirror_mode": {
    "name": "ipython",
    "version": 3
   },
   "file_extension": ".py",
   "mimetype": "text/x-python",
   "name": "python",
   "nbconvert_exporter": "python",
   "pygments_lexer": "ipython3",
   "version": "3.7.7"
  }
 },
 "nbformat": 4,
 "nbformat_minor": 4
}
