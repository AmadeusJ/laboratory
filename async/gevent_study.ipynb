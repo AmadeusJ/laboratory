{
 "cells": [
  {
   "cell_type": "code",
   "execution_count": 1,
   "metadata": {},
   "outputs": [],
   "source": [
    "import gevent"
   ]
  },
  {
   "cell_type": "code",
   "execution_count": 2,
   "metadata": {},
   "outputs": [
    {
     "name": "stdout",
     "output_type": "stream",
     "text": [
      "[1] Running in foo\n",
      "[3] Emplict context to bar\n",
      "[2] Emplict context switch to foo again\n",
      "[4] implicit switch switch back to bar\n"
     ]
    },
    {
     "data": {
      "text/plain": [
       "[<Greenlet at 0x7ffab87543b0: _run>, <Greenlet at 0x7ffab87544d0: _run>]"
      ]
     },
     "execution_count": 2,
     "metadata": {},
     "output_type": "execute_result"
    }
   ],
   "source": [
    "def foo():\n",
    "    print('[1] Running in foo')\n",
    "    gevent.sleep(0)\n",
    "    print('[2] Emplict context switch to foo again')\n",
    "\n",
    "def bar():\n",
    "    print('[3] Emplict context to bar')\n",
    "    gevent.sleep(0)\n",
    "    print('[4] implicit switch switch back to bar')\n",
    "\n",
    "gevent.joinall([\n",
    "    gevent.spawn(foo),\n",
    "    gevent.spawn(bar),\n",
    "])"
   ]
  },
  {
   "cell_type": "markdown",
   "metadata": {},
   "source": [
    "## Synchronous & Asynchronous Execution"
   ]
  },
  {
   "cell_type": "code",
   "execution_count": 3,
   "metadata": {},
   "outputs": [],
   "source": [
    "import time\n",
    "from gevent import select"
   ]
  },
  {
   "cell_type": "code",
   "execution_count": 4,
   "metadata": {},
   "outputs": [
    {
     "name": "stdout",
     "output_type": "stream",
     "text": [
      "[1] Started Polling: at 0.0 seconds\n",
      "[3] Started Polling: at 0.0 seconds\n",
      "[5] Hey lets do some stuff while the greenlets poll, at 0.0 seconds\n",
      "[2] Ended Polling: at 2.0 seconds\n",
      "[4] Ended Polling: at 2.0 seconds\n"
     ]
    },
    {
     "data": {
      "text/plain": [
       "[<Greenlet at 0x7ffab8754710: _run>,\n",
       " <Greenlet at 0x7ffab8754290: _run>,\n",
       " <Greenlet at 0x7ffab87545f0: _run>]"
      ]
     },
     "execution_count": 4,
     "metadata": {},
     "output_type": "execute_result"
    }
   ],
   "source": [
    "# gevent의 진짜 힘은 상호작용 하며 스케쥴링 될 수 있는 네트워크와 IO bound 함수들을 작성할 때 발휘된다.\n",
    "# gevent는 네트워크 라이브러리들이 암시적으로 greenlet 컨텍스트들이 가능한 시점에 암시적으로 yield 하도록 보장합니다 (==> 뭔 소리인지...)\n",
    "\n",
    "start = time.time()\n",
    "tic = lambda: 'at %1.1f seconds' % (time.time() - start)\n",
    "\n",
    "def gr1():\n",
    "    # Busy waits for a second, but we don't want to stick around...\n",
    "    print('[1] Started Polling: %s' % tic())\n",
    "    select.select([], [], [], 2)\n",
    "    print('[2] Ended Polling: %s' % tic())\n",
    "\n",
    "def gr2():\n",
    "    # Busy waits for a second, but we don't want to stick around...\n",
    "    print('[3] Started Polling: %s' % tic())\n",
    "    select.select([], [], [], 2)\n",
    "    print('[4] Ended Polling: %s' % tic())\n",
    "\n",
    "def gr3():\n",
    "    print(\"[5] Hey lets do some stuff while the greenlets poll, %s\" % tic())\n",
    "    gevent.sleep(1)\n",
    "\n",
    "gevent.joinall([\n",
    "    gevent.spawn(gr1),\n",
    "    gevent.spawn(gr2),\n",
    "    gevent.spawn(gr3),\n",
    "])"
   ]
  },
  {
   "cell_type": "markdown",
   "metadata": {},
   "source": [
    "> `.spawn(?)`에 들어가면 coroutine에 들어간다고 보면 될 거 같다.."
   ]
  },
  {
   "cell_type": "code",
   "execution_count": 5,
   "metadata": {},
   "outputs": [
    {
     "name": "stdout",
     "output_type": "stream",
     "text": [
      "Synchronous:\n",
      "Task 1 done\n",
      "Task 2 done\n",
      "Task 3 done\n",
      "Task 4 done\n",
      "Task 5 done\n",
      "Task 6 done\n",
      "Task 7 done\n",
      "Task 8 done\n",
      "Task 9 done\n",
      "Asynchronous:\n",
      "Task 1 done\n",
      "Task 8 done\n",
      "Task 9 done\n",
      "Task 2 done\n",
      "Task 5 done\n",
      "Task 6 done\n",
      "Task 0 done\n",
      "Task 3 done\n",
      "Task 4 done\n",
      "Task 7 done\n"
     ]
    }
   ],
   "source": [
    "import random\n",
    "\n",
    "def task(pid):\n",
    "    \"\"\"\n",
    "    Some non-deterministic task\n",
    "    \"\"\"\n",
    "    gevent.sleep(random.randint(0, 2) * 0.001)\n",
    "    print(\"Task %s done\" % pid)\n",
    "\n",
    "def synchronous():\n",
    "    for i in range(1, 10):\n",
    "        task(i)\n",
    "\n",
    "def asynchronous():\n",
    "    threads = [gevent.spawn(task, i) for i in range(10)]\n",
    "    gevent.joinall(threads)\n",
    "\n",
    "print('Synchronous:')\n",
    "synchronous()\n",
    "\n",
    "print('Asynchronous:')\n",
    "asynchronous()"
   ]
  },
  {
   "cell_type": "markdown",
   "metadata": {},
   "source": [
    "> 동기(synchronous)처리 시 모든 task들이 순차적으로 실행되고, 다른 task들이 각각 동작하는 동한 blocking 방식으로 동작한다. <br/>\n",
    "비동기(asynchronous)처리 시 실행 순서가 보장되지 않고 실행시간이 동기처리 시 보다 훨씬 줄어든다. task들이 서로  실행을 block 하지 않기에"
   ]
  },
  {
   "cell_type": "code",
   "execution_count": 15,
   "metadata": {},
   "outputs": [
    {
     "name": "stdout",
     "output_type": "stream",
     "text": [
      "Synchronous:\n",
      "Process 1: 2020-12-10T05:21:44.864725-03:00\n",
      "Process 2: 2020-12-10T05:21:46.436948-03:00\n",
      "Process 3: 2020-12-10T05:21:47.873143-03:00\n",
      "Process 4: 2020-12-10T05:21:49.022463-03:00\n",
      "Process 5: 2020-12-10T05:21:49.803659-03:00\n",
      "Process 6: 2020-12-10T05:21:50.470372-03:00\n",
      "Process 7: 2020-12-10T05:21:51.049627-03:00\n",
      "Process 8: 2020-12-10T05:21:51.612511-03:00\n",
      "Process 9: 2020-12-10T05:21:52.172603-03:00\n",
      "Asynchronous:\n",
      "Process 3: 2020-12-10T05:21:52.735115-03:00\n",
      "Process 8: 2020-12-10T05:21:52.740205-03:00\n",
      "Process 5: 2020-12-10T05:21:52.732950-03:00\n",
      "Process 2: 2020-12-10T05:21:52.738408-03:00\n",
      "Process 1: 2020-12-10T05:21:52.739684-03:00\n",
      "Process 7: 2020-12-10T05:21:52.742091-03:00\n",
      "Process 6: 2020-12-10T05:21:52.745032-03:00\n",
      "Process 4: 2020-12-10T05:21:52.745415-03:00\n",
      "Process 9: 2020-12-10T05:21:52.748487-03:00\n"
     ]
    }
   ],
   "source": [
    "import gevent.monkey\n",
    "gevent.monkey.patch_socket()\n",
    "\n",
    "import urllib.request\n",
    "import simplejson as json\n",
    "\n",
    "def fetch(pid):\n",
    "    response = urllib.request.urlopen('http://worldtimeapi.org/api/timezone/America/Argentina/Salta')\n",
    "    result = response.read()\n",
    "    json_result = json.loads(result)\n",
    "    datetime = json_result['datetime']\n",
    "    \n",
    "    print('Process %s: %s' % (pid, datetime))\n",
    "    return json_result['datetime']\n",
    "\n",
    "def synchronous():\n",
    "    for i in range(1, 10):\n",
    "        fetch(i)\n",
    "\n",
    "def asynchronous():\n",
    "    threads = []\n",
    "    for i in range(1, 10):\n",
    "        threads.append(gevent.spawn(fetch, i))\n",
    "    gevent.joinall(threads)\n",
    "\n",
    "print('Synchronous:')\n",
    "synchronous()\n",
    "\n",
    "print('Asynchronous:')\n",
    "asynchronous()"
   ]
  },
  {
   "cell_type": "code",
   "execution_count": null,
   "metadata": {},
   "outputs": [],
   "source": []
  }
 ],
 "metadata": {
  "kernelspec": {
   "display_name": "Python 3",
   "language": "python",
   "name": "python3"
  },
  "language_info": {
   "codemirror_mode": {
    "name": "ipython",
    "version": 3
   },
   "file_extension": ".py",
   "mimetype": "text/x-python",
   "name": "python",
   "nbconvert_exporter": "python",
   "pygments_lexer": "ipython3",
   "version": "3.7.7"
  }
 },
 "nbformat": 4,
 "nbformat_minor": 4
}
